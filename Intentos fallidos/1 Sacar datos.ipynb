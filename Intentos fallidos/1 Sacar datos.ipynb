{
 "cells": [
  {
   "cell_type": "markdown",
   "id": "2d8d9300",
   "metadata": {},
   "source": [
    "# Sacar los datos\n",
    "\n",
    "http://www.mineduc.gob.gt/BUSCAESTABLECIMIENTO_GE/ \n"
   ]
  },
  {
   "cell_type": "code",
   "execution_count": 4,
   "id": "db3da6c6",
   "metadata": {},
   "outputs": [
    {
     "name": "stdout",
     "output_type": "stream",
     "text": [
      "Collecting selenium\n",
      "  Downloading selenium-4.34.2-py3-none-any.whl.metadata (7.5 kB)\n",
      "Collecting urllib3~=2.5.0 (from urllib3[socks]~=2.5.0->selenium)\n",
      "  Downloading urllib3-2.5.0-py3-none-any.whl.metadata (6.5 kB)\n",
      "Collecting trio~=0.30.0 (from selenium)\n",
      "  Downloading trio-0.30.0-py3-none-any.whl.metadata (8.5 kB)\n",
      "Collecting trio-websocket~=0.12.2 (from selenium)\n",
      "  Downloading trio_websocket-0.12.2-py3-none-any.whl.metadata (5.1 kB)\n",
      "Collecting certifi>=2025.6.15 (from selenium)\n",
      "  Downloading certifi-2025.6.15-py3-none-any.whl.metadata (2.4 kB)\n",
      "Collecting typing_extensions~=4.14.0 (from selenium)\n",
      "  Using cached typing_extensions-4.14.1-py3-none-any.whl.metadata (3.0 kB)\n",
      "Requirement already satisfied: websocket-client~=1.8.0 in /Library/Frameworks/Python.framework/Versions/3.13/lib/python3.13/site-packages (from selenium) (1.8.0)\n",
      "Requirement already satisfied: attrs>=23.2.0 in /Library/Frameworks/Python.framework/Versions/3.13/lib/python3.13/site-packages (from trio~=0.30.0->selenium) (24.3.0)\n",
      "Collecting sortedcontainers (from trio~=0.30.0->selenium)\n",
      "  Downloading sortedcontainers-2.4.0-py2.py3-none-any.whl.metadata (10 kB)\n",
      "Requirement already satisfied: idna in /Library/Frameworks/Python.framework/Versions/3.13/lib/python3.13/site-packages (from trio~=0.30.0->selenium) (3.10)\n",
      "Collecting outcome (from trio~=0.30.0->selenium)\n",
      "  Downloading outcome-1.3.0.post0-py2.py3-none-any.whl.metadata (2.6 kB)\n",
      "Requirement already satisfied: sniffio>=1.3.0 in /Library/Frameworks/Python.framework/Versions/3.13/lib/python3.13/site-packages (from trio~=0.30.0->selenium) (1.3.1)\n",
      "Collecting wsproto>=0.14 (from trio-websocket~=0.12.2->selenium)\n",
      "  Downloading wsproto-1.2.0-py3-none-any.whl.metadata (5.6 kB)\n",
      "Collecting pysocks!=1.5.7,<2.0,>=1.5.6 (from urllib3[socks]~=2.5.0->selenium)\n",
      "  Downloading PySocks-1.7.1-py3-none-any.whl.metadata (13 kB)\n",
      "Requirement already satisfied: h11<1,>=0.9.0 in /Library/Frameworks/Python.framework/Versions/3.13/lib/python3.13/site-packages (from wsproto>=0.14->trio-websocket~=0.12.2->selenium) (0.14.0)\n",
      "Downloading selenium-4.34.2-py3-none-any.whl (9.4 MB)\n",
      "\u001b[2K   \u001b[90m━━━━━━━━━━━━━━━━━━━━━━━━━━━━━━━━━━━━━━━━\u001b[0m \u001b[32m9.4/9.4 MB\u001b[0m \u001b[31m6.1 MB/s\u001b[0m eta \u001b[36m0:00:00\u001b[0ma \u001b[36m0:00:01\u001b[0mm\n",
      "\u001b[?25hDownloading certifi-2025.6.15-py3-none-any.whl (157 kB)\n",
      "Downloading trio-0.30.0-py3-none-any.whl (499 kB)\n",
      "Downloading trio_websocket-0.12.2-py3-none-any.whl (21 kB)\n",
      "Using cached typing_extensions-4.14.1-py3-none-any.whl (43 kB)\n",
      "Downloading urllib3-2.5.0-py3-none-any.whl (129 kB)\n",
      "Downloading outcome-1.3.0.post0-py2.py3-none-any.whl (10 kB)\n",
      "Downloading PySocks-1.7.1-py3-none-any.whl (16 kB)\n",
      "Downloading wsproto-1.2.0-py3-none-any.whl (24 kB)\n",
      "Downloading sortedcontainers-2.4.0-py2.py3-none-any.whl (29 kB)\n",
      "Installing collected packages: sortedcontainers, wsproto, urllib3, typing_extensions, pysocks, outcome, certifi, trio, trio-websocket, selenium\n",
      "Successfully installed certifi-2025.6.15 outcome-1.3.0.post0 pysocks-1.7.1 selenium-4.34.2 sortedcontainers-2.4.0 trio-0.30.0 trio-websocket-0.12.2 typing_extensions-4.14.1 urllib3-2.5.0 wsproto-1.2.0\n",
      "\n",
      "\u001b[1m[\u001b[0m\u001b[34;49mnotice\u001b[0m\u001b[1;39;49m]\u001b[0m\u001b[39;49m A new release of pip is available: \u001b[0m\u001b[31;49m24.3.1\u001b[0m\u001b[39;49m -> \u001b[0m\u001b[32;49m25.1.1\u001b[0m\n",
      "\u001b[1m[\u001b[0m\u001b[34;49mnotice\u001b[0m\u001b[1;39;49m]\u001b[0m\u001b[39;49m To update, run: \u001b[0m\u001b[32;49mpip3 install --upgrade pip\u001b[0m\n"
     ]
    }
   ],
   "source": [
    "import sys\n",
    "!{sys.executable} -m pip install --user \"selenium\""
   ]
  },
  {
   "cell_type": "code",
   "execution_count": 5,
   "id": "f53e250a",
   "metadata": {},
   "outputs": [],
   "source": [
    "import zipfile\n",
    "import urllib.request\n",
    "import io\n",
    "import pandas as pd\n",
    "import xml.etree.ElementTree as ET\n",
    "import json\n",
    "\n",
    "import requests\n",
    "from bs4 import BeautifulSoup #pip install bs4 por si debe instalarlo\n",
    "import camelot #pip install \"camelot-py[cv]\" por si debe instalarlo\n",
    "\n",
    "from selenium import webdriver\n",
    "from selenium.webdriver.chrome.service import Service\n",
    "from selenium.webdriver.common.by import By\n",
    "from selenium.webdriver.support.ui import WebDriverWait, Select\n",
    "from selenium.webdriver.support import expected_conditions as EC\n",
    "import time, os"
   ]
  },
  {
   "cell_type": "code",
   "execution_count": 3,
   "id": "eeb47cda",
   "metadata": {},
   "outputs": [
    {
     "name": "stdout",
     "output_type": "stream",
     "text": [
      "<!DOCTYPE html>\n",
      "\n",
      "<html>\n",
      "<head>\n",
      "<title>The resource cannot be found.</title>\n",
      "<meta content=\"width=device-width\" name=\"viewport\"/>\n",
      "<style>\n",
      "         body {font-family:\"Verdana\";font-weight:normal;font-size: .7em;color:black;} \n",
      "         p {font-family:\"Verdana\";font-weight:normal;color:black;margin-top: -5px}\n",
      "         b {font-family:\"Verdana\";font-weight:bold;color:black;margin-top: -5px}\n",
      "         H1 { font-family:\"Verdana\";font-weight:normal;font-size:18pt;color:red }\n",
      "         H2 { font-family:\"Verdana\";font-weight:normal;font-size:14pt;color:maroon }\n",
      "         pre {font-family:\"Consolas\",\"Lucida Console\",Monospace;font-size:11pt;margin:0;padding:0.5em;line-height:14pt}\n",
      "         .marker {font-weight: bold; color: black;text-decoration: none;}\n",
      "         .version {color: gray;}\n",
      "         .error {margin-bottom: 10px;}\n",
      "         .expandable { text-decoration:underline; font-weight:bold; color:navy; cursor:pointer; }\n",
      "         @media screen and (max-width: 639px) {\n",
      "          pre { width: 440px; overflow: auto; white-space: pre-wrap; word-wrap: break-word; }\n",
      "         }\n",
      "         @media screen and (max-width: 479px) {\n",
      "          pre { width: 280px; }\n",
      "         }\n",
      "        </style>\n",
      "</head>\n",
      "<body bgcolor=\"white\">\n",
      "<span><h1>Server Error in '/BUSCAESTABLECIMIENTO_GE' Application.<hr color=\"silver\" size=\"1\" width=\"100%\"/></h1>\n",
      "<h2> <i>The resource cannot be found.</i> </h2></span>\n",
      "<font face=\"Arial, Helvetica, Geneva, SunSans-Regular, sans-serif \">\n",
      "<b> Description: </b>HTTP 404. The resource you are looking for (or one of its dependencies) could have been removed, had its name changed, or is temporarily unavailable.  Please review the following URL and make sure that it is spelled correctly.\n",
      "            <br/><br/>\n",
      "<b> Requested URL: </b>/BUSCAESTABLECIMIENTO_GE/<br/><br/>\n",
      "</font>\n",
      "<script async=\"\" src=\"/_Incapsula_Resource?SWJIYLWA=719d34d31c8e3a6e6fffd425f7e032f3&amp;ns=2&amp;cb=357237856\" type=\"text/javascript\"></script></body>\n",
      "</html>\n",
      "\n"
     ]
    }
   ],
   "source": [
    "url =  \"http://www.mineduc.gob.gt/BUSCAESTABLECIMIENTO_GE/ \"\n",
    "response = requests.request(\"GET\", url)\n",
    "web_data = BeautifulSoup(response.text,'html.parser')\n",
    "print(web_data)"
   ]
  },
  {
   "cell_type": "code",
   "execution_count": 7,
   "id": "5f27263d",
   "metadata": {},
   "outputs": [
    {
     "ename": "TimeoutException",
     "evalue": "Message: \nStacktrace:\n0   chromedriver                        0x0000000100ef4e6c cxxbridge1$str$ptr + 2722840\n1   chromedriver                        0x0000000100eecd74 cxxbridge1$str$ptr + 2689824\n2   chromedriver                        0x0000000100a3e3ec cxxbridge1$string$len + 90648\n3   chromedriver                        0x0000000100a85544 cxxbridge1$string$len + 381808\n4   chromedriver                        0x0000000100ac6934 cxxbridge1$string$len + 649056\n5   chromedriver                        0x0000000100a79834 cxxbridge1$string$len + 333408\n6   chromedriver                        0x0000000100eb7f88 cxxbridge1$str$ptr + 2473268\n7   chromedriver                        0x0000000100ebb1f4 cxxbridge1$str$ptr + 2486176\n8   chromedriver                        0x0000000100e999d0 cxxbridge1$str$ptr + 2348924\n9   chromedriver                        0x0000000100ebbab0 cxxbridge1$str$ptr + 2488412\n10  chromedriver                        0x0000000100e8aa60 cxxbridge1$str$ptr + 2287628\n11  chromedriver                        0x0000000100edb9a0 cxxbridge1$str$ptr + 2619212\n12  chromedriver                        0x0000000100edbb2c cxxbridge1$str$ptr + 2619608\n13  chromedriver                        0x0000000100eec9b0 cxxbridge1$str$ptr + 2688860\n14  libsystem_pthread.dylib             0x000000019ea42c0c _pthread_start + 136\n15  libsystem_pthread.dylib             0x000000019ea3db80 thread_start + 8\n",
     "output_type": "error",
     "traceback": [
      "\u001b[0;31m---------------------------------------------------------------------------\u001b[0m",
      "\u001b[0;31mTimeoutException\u001b[0m                          Traceback (most recent call last)",
      "Cell \u001b[0;32mIn[7], line 10\u001b[0m\n\u001b[1;32m      7\u001b[0m os\u001b[38;5;241m.\u001b[39mmakedirs(output_dir, exist_ok\u001b[38;5;241m=\u001b[39m\u001b[38;5;28;01mTrue\u001b[39;00m)\n\u001b[1;32m      9\u001b[0m \u001b[38;5;66;03m# 1. Obtener la lista de departamentos\u001b[39;00m\n\u001b[0;32m---> 10\u001b[0m select_depto \u001b[38;5;241m=\u001b[39m Select(\u001b[43mwait\u001b[49m\u001b[38;5;241;43m.\u001b[39;49m\u001b[43muntil\u001b[49m\u001b[43m(\u001b[49m\u001b[43mEC\u001b[49m\u001b[38;5;241;43m.\u001b[39;49m\u001b[43melement_to_be_clickable\u001b[49m\u001b[43m(\u001b[49m\u001b[43m(\u001b[49m\u001b[43mBy\u001b[49m\u001b[38;5;241;43m.\u001b[39;49m\u001b[43mID\u001b[49m\u001b[43m,\u001b[49m\u001b[43m \u001b[49m\u001b[38;5;124;43m\"\u001b[39;49m\u001b[38;5;124;43mctl00_ContentPlaceHolder1_ddlDepartamento\u001b[39;49m\u001b[38;5;124;43m\"\u001b[39;49m\u001b[43m)\u001b[49m\u001b[43m)\u001b[49m\u001b[43m)\u001b[49m)\n\u001b[1;32m     11\u001b[0m departamentos \u001b[38;5;241m=\u001b[39m [opt\u001b[38;5;241m.\u001b[39mget_attribute(\u001b[38;5;124m\"\u001b[39m\u001b[38;5;124mvalue\u001b[39m\u001b[38;5;124m\"\u001b[39m) \u001b[38;5;28;01mfor\u001b[39;00m opt \u001b[38;5;129;01min\u001b[39;00m select_depto\u001b[38;5;241m.\u001b[39moptions \u001b[38;5;28;01mif\u001b[39;00m opt\u001b[38;5;241m.\u001b[39mget_attribute(\u001b[38;5;124m\"\u001b[39m\u001b[38;5;124mvalue\u001b[39m\u001b[38;5;124m\"\u001b[39m) \u001b[38;5;241m!=\u001b[39m \u001b[38;5;124m\"\u001b[39m\u001b[38;5;124m\"\u001b[39m]\n\u001b[1;32m     13\u001b[0m \u001b[38;5;28;01mfor\u001b[39;00m depto_value \u001b[38;5;129;01min\u001b[39;00m departamentos:\n",
      "File \u001b[0;32m~/Library/Python/3.13/lib/python/site-packages/selenium/webdriver/support/wait.py:138\u001b[0m, in \u001b[0;36mWebDriverWait.until\u001b[0;34m(self, method, message)\u001b[0m\n\u001b[1;32m    136\u001b[0m         \u001b[38;5;28;01mbreak\u001b[39;00m\n\u001b[1;32m    137\u001b[0m     time\u001b[38;5;241m.\u001b[39msleep(\u001b[38;5;28mself\u001b[39m\u001b[38;5;241m.\u001b[39m_poll)\n\u001b[0;32m--> 138\u001b[0m \u001b[38;5;28;01mraise\u001b[39;00m TimeoutException(message, screen, stacktrace)\n",
      "\u001b[0;31mTimeoutException\u001b[0m: Message: \nStacktrace:\n0   chromedriver                        0x0000000100ef4e6c cxxbridge1$str$ptr + 2722840\n1   chromedriver                        0x0000000100eecd74 cxxbridge1$str$ptr + 2689824\n2   chromedriver                        0x0000000100a3e3ec cxxbridge1$string$len + 90648\n3   chromedriver                        0x0000000100a85544 cxxbridge1$string$len + 381808\n4   chromedriver                        0x0000000100ac6934 cxxbridge1$string$len + 649056\n5   chromedriver                        0x0000000100a79834 cxxbridge1$string$len + 333408\n6   chromedriver                        0x0000000100eb7f88 cxxbridge1$str$ptr + 2473268\n7   chromedriver                        0x0000000100ebb1f4 cxxbridge1$str$ptr + 2486176\n8   chromedriver                        0x0000000100e999d0 cxxbridge1$str$ptr + 2348924\n9   chromedriver                        0x0000000100ebbab0 cxxbridge1$str$ptr + 2488412\n10  chromedriver                        0x0000000100e8aa60 cxxbridge1$str$ptr + 2287628\n11  chromedriver                        0x0000000100edb9a0 cxxbridge1$str$ptr + 2619212\n12  chromedriver                        0x0000000100edbb2c cxxbridge1$str$ptr + 2619608\n13  chromedriver                        0x0000000100eec9b0 cxxbridge1$str$ptr + 2688860\n14  libsystem_pthread.dylib             0x000000019ea42c0c _pthread_start + 136\n15  libsystem_pthread.dylib             0x000000019ea3db80 thread_start + 8\n"
     ]
    }
   ],
   "source": [
    "\n",
    "# Configuración\n",
    "driver = webdriver.Chrome()  # Asegúrate de tener chromedriver en PATH\n",
    "wait = WebDriverWait(driver, 15)\n",
    "driver.get(\"https://www.mineduc.gob.gt/BUSCAESTABLECIMIENTO_GE/\")\n",
    "\n",
    "output_dir = \"excels_centros\"\n",
    "os.makedirs(output_dir, exist_ok=True)\n",
    "\n",
    "# 1. Obtener la lista de departamentos\n",
    "select_depto = Select(wait.until(EC.element_to_be_clickable((By.ID, \"ctl00_ContentPlaceHolder1_ddlDepartamento\"))))\n",
    "departamentos = [opt.get_attribute(\"value\") for opt in select_depto.options if opt.get_attribute(\"value\") != \"\"]\n",
    "\n",
    "for depto_value in departamentos:\n",
    "    select_depto.select_by_value(depto_value)\n",
    "    # 2. Click en buscar\n",
    "    btn_buscar = driver.find_element(By.ID, \"ctl00_ContentPlaceHolder1_btnBuscar\")\n",
    "    btn_buscar.click()\n",
    "    # 3. Esperar a que aparezca la tabla\n",
    "    wait.until(EC.visibility_of_element_located((By.ID, \"ctl00_ContentPlaceHolder1_gvResultado\")))\n",
    "\n",
    "    # Cuántas filas hay\n",
    "    rows = driver.find_elements(By.CSS_SELECTOR, \"#ctl00_ContentPlaceHolder1_gvResultado tr\")[1:]\n",
    "    print(f\"Departamento {depto_value}, {len(rows)} centros encontrados.\")\n",
    "\n",
    "    for i, row in enumerate(rows, start=1):\n",
    "        # Botón “Seleccionar centro”\n",
    "        btn_sel = row.find_element(By.LINK_TEXT, \"Seleccionar centro\")\n",
    "        btn_sel.click()\n",
    "\n",
    "        # Esperar y click al botón de descarga en la ventana emergente/modal\n",
    "        # Asumiendo que aparece nuevo botón con id \"ctl00_ContentPlaceHolder1_btnDescargar\"\n",
    "        download_btn = wait.until(EC.element_to_be_clickable((By.ID, \"ctl00_ContentPlaceHolder1_btnDescargar\")))\n",
    "        # Obtener nombre de archivo desde el centro (ejemplo: texto de cabecera del modal)\n",
    "        nombre_centro = wait.until(EC.visibility_of_element_located((By.CSS_SELECTOR, \".modal-title\"))).text\n",
    "        safe_name = \"\".join(c for c in nombre_centro if c.isalnum() or c in \" -_\").rstrip()\n",
    "        path = os.path.join(output_dir, f\"{safe_name}.xlsx\")\n",
    "\n",
    "        # Redirigir descarga automática\n",
    "        download_btn.click()\n",
    "        # Esperar que el archivo aparezca localmente (puede necesitar configuración del navegador)\n",
    "        time.sleep(5)\n",
    "        print(f\"Descargado: {safe_name}.xlsx\")\n",
    "\n",
    "        # Cerrar modal o regresar a la tabla\n",
    "        btn_cerrar = driver.find_element(By.CSS_SELECTOR, \".modal-close\")  # ajusta selector\n",
    "        btn_cerrar.click()\n",
    "        wait.until(EC.visibility_of_element_located((By.ID, \"ctl00_ContentPlaceHolder1_gvResultado\")))\n",
    "\n",
    "    # Para la siguiente iteración, volver a recargar la lista de departamentos\n",
    "    select_depto = Select(driver.find_element(By.ID, \"ctl00_ContentPlaceHolder1_ddlDepartamento\"))\n",
    "    driver.get(driver.current_url)  # refrescar si hay problema\n",
    "\n",
    "driver.quit()"
   ]
  },
  {
   "cell_type": "code",
   "execution_count": 8,
   "id": "e58c4775",
   "metadata": {},
   "outputs": [
    {
     "name": "stdout",
     "output_type": "stream",
     "text": [
      "No se encontró el menú de departamentos.\n"
     ]
    }
   ],
   "source": [
    "from selenium import webdriver\n",
    "from selenium.webdriver.support.ui import WebDriverWait, Select\n",
    "from selenium.webdriver.common.by import By\n",
    "from selenium.webdriver.support import expected_conditions as EC\n",
    "\n",
    "driver = webdriver.Chrome()\n",
    "driver.get(\"https://apps2.mineduc.gob.gt/UTE/ConsultaEstablecimientos.aspx\")\n",
    "wait = WebDriverWait(driver, 20)\n",
    "\n",
    "# Esperar que aparezca el select\n",
    "try:\n",
    "    select_elem = wait.until(EC.presence_of_element_located((By.ID, \"ctl00_ContentPlaceHolder1_ddlDepartamento\")))\n",
    "    select = Select(select_elem)\n",
    "    for opt in select.options:\n",
    "        print(opt.text)\n",
    "except:\n",
    "    print(\"No se encontró el menú de departamentos.\")"
   ]
  },
  {
   "cell_type": "code",
   "execution_count": 6,
   "id": "33b1e6a6",
   "metadata": {},
   "outputs": [
    {
     "ename": "NameError",
     "evalue": "name 'output_dir' is not defined",
     "output_type": "error",
     "traceback": [
      "\u001b[0;31m---------------------------------------------------------------------------\u001b[0m",
      "\u001b[0;31mNameError\u001b[0m                                 Traceback (most recent call last)",
      "Cell \u001b[0;32mIn[6], line 4\u001b[0m\n\u001b[1;32m      1\u001b[0m \u001b[38;5;28;01mfrom\u001b[39;00m\u001b[38;5;250m \u001b[39m\u001b[38;5;21;01mselenium\u001b[39;00m\u001b[38;5;21;01m.\u001b[39;00m\u001b[38;5;21;01mwebdriver\u001b[39;00m\u001b[38;5;21;01m.\u001b[39;00m\u001b[38;5;21;01mchrome\u001b[39;00m\u001b[38;5;21;01m.\u001b[39;00m\u001b[38;5;21;01moptions\u001b[39;00m\u001b[38;5;250m \u001b[39m\u001b[38;5;28;01mimport\u001b[39;00m Options\n\u001b[1;32m      2\u001b[0m opt \u001b[38;5;241m=\u001b[39m Options()\n\u001b[1;32m      3\u001b[0m opt\u001b[38;5;241m.\u001b[39madd_experimental_option(\u001b[38;5;124m\"\u001b[39m\u001b[38;5;124mprefs\u001b[39m\u001b[38;5;124m\"\u001b[39m, {\n\u001b[0;32m----> 4\u001b[0m     \u001b[38;5;124m\"\u001b[39m\u001b[38;5;124mdownload.default_directory\u001b[39m\u001b[38;5;124m\"\u001b[39m: os\u001b[38;5;241m.\u001b[39mpath\u001b[38;5;241m.\u001b[39mabspath(\u001b[43moutput_dir\u001b[49m),\n\u001b[1;32m      5\u001b[0m     \u001b[38;5;124m\"\u001b[39m\u001b[38;5;124mdownload.prompt_for_download\u001b[39m\u001b[38;5;124m\"\u001b[39m: \u001b[38;5;28;01mFalse\u001b[39;00m,\n\u001b[1;32m      6\u001b[0m     \u001b[38;5;124m\"\u001b[39m\u001b[38;5;124mplugins.always_open_pdf_externally\u001b[39m\u001b[38;5;124m\"\u001b[39m: \u001b[38;5;28;01mTrue\u001b[39;00m\n\u001b[1;32m      7\u001b[0m })\n\u001b[1;32m      8\u001b[0m driver \u001b[38;5;241m=\u001b[39m webdriver\u001b[38;5;241m.\u001b[39mChrome(options\u001b[38;5;241m=\u001b[39mopt)\n",
      "\u001b[0;31mNameError\u001b[0m: name 'output_dir' is not defined"
     ]
    }
   ],
   "source": [
    "from selenium.webdriver.chrome.options import Options\n",
    "opt = Options()\n",
    "opt.add_experimental_option(\"prefs\", {\n",
    "    \"download.default_directory\": os.path.abspath(output_dir),\n",
    "    \"download.prompt_for_download\": False,\n",
    "    \"plugins.always_open_pdf_externally\": True\n",
    "})\n",
    "driver = webdriver.Chrome(options=opt)"
   ]
  }
 ],
 "metadata": {
  "kernelspec": {
   "display_name": "Python 3",
   "language": "python",
   "name": "python3"
  },
  "language_info": {
   "codemirror_mode": {
    "name": "ipython",
    "version": 3
   },
   "file_extension": ".py",
   "mimetype": "text/x-python",
   "name": "python",
   "nbconvert_exporter": "python",
   "pygments_lexer": "ipython3",
   "version": "3.13.1"
  }
 },
 "nbformat": 4,
 "nbformat_minor": 5
}
