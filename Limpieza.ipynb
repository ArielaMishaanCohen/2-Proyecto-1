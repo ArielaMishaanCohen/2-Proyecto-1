{
 "cells": [
  {
   "cell_type": "markdown",
   "id": "b415c202",
   "metadata": {},
   "source": [
    "<h1 style=\"text-align:center;\"><b>Data Science - Proyecto 1: Limpieza de Datos</b></h1>\n",
    "<h3 style=\"text-align:center;\">Alina Carías, Marcos Díaz, Ariela Mishaan </h3>"
   ]
  },
  {
   "cell_type": "code",
   "execution_count": 26,
   "id": "de8a100f",
   "metadata": {},
   "outputs": [],
   "source": [
    "import os\n",
    "import glob\n",
    "import pandas as pd \n",
    "import re"
   ]
  },
  {
   "cell_type": "markdown",
   "id": "89218d1a",
   "metadata": {},
   "source": [
    "# 1. Carga de datos\n",
    "\n",
    "En este paso, no solamente se importaron los CSVs desde el fólder en el directorio, sino también se aprovechó el ciclo for para eliminar las filas y columnas vacías o inútiles que traían los exceles. Dado que todos venían en exactamente el mismo formato, se pudo inspeccionar exactamente qué era lo que se necesitaba, para hacer el proceso de forma masiva. El proceso es el siguiente: \n",
    "\n",
    "1. Carga de archivo csv en un dataframe de pandas. \n",
    "2. Leer solamente las filas donde hay datos relevantes (de la 27 hasta antes de las últimas 5)\n",
    "3. Cambiar el encabezado, poner en él los nombres de las columnas. \n",
    "4. Borrar las columnas con solo datos inexistentes (NA - estas son por el formato en el que venían los archivos)\n",
    "5. Resetear los índices del dataframe de pandas para que sean manejables los datos. \n",
    "6. Agregar el dataframe del departamento a la lista con todos los dataframes. "
   ]
  },
  {
   "cell_type": "code",
   "execution_count": 27,
   "id": "d60b9352",
   "metadata": {},
   "outputs": [
    {
     "name": "stdout",
     "output_type": "stream",
     "text": [
      "Leyendo archivo: Datos/CSVs\\Alta Verapaz.csv\n",
      "Leyendo archivo: Datos/CSVs\\Baja Verapaz.csv\n",
      "Leyendo archivo: Datos/CSVs\\Chimaltenango.csv\n",
      "Leyendo archivo: Datos/CSVs\\Chiquimula.csv\n",
      "Leyendo archivo: Datos/CSVs\\Ciudad Capital.csv\n",
      "Leyendo archivo: Datos/CSVs\\El Progreso.csv\n",
      "Leyendo archivo: Datos/CSVs\\Escuintla.csv\n",
      "Leyendo archivo: Datos/CSVs\\Guatemala.csv\n",
      "Leyendo archivo: Datos/CSVs\\Huehuetenango.csv\n",
      "Leyendo archivo: Datos/CSVs\\Izabal.csv\n",
      "Leyendo archivo: Datos/CSVs\\Jalapa.csv\n",
      "Leyendo archivo: Datos/CSVs\\Jutiapa.csv\n",
      "Leyendo archivo: Datos/CSVs\\Petén.csv\n",
      "Leyendo archivo: Datos/CSVs\\Quetzaltenango.csv\n",
      "Leyendo archivo: Datos/CSVs\\Quiché.csv\n",
      "Leyendo archivo: Datos/CSVs\\Retalhuleu.csv\n",
      "Leyendo archivo: Datos/CSVs\\Sacatepéquez.csv\n",
      "Leyendo archivo: Datos/CSVs\\San Marcos.csv\n",
      "Leyendo archivo: Datos/CSVs\\Santa Rosa.csv\n",
      "Leyendo archivo: Datos/CSVs\\Sololá.csv\n",
      "Leyendo archivo: Datos/CSVs\\Suchitepéquez.csv\n",
      "Leyendo archivo: Datos/CSVs\\Totonicapán.csv\n",
      "Leyendo archivo: Datos/CSVs\\Zacapa.csv\n",
      "\n",
      "Importación realizada con éxito\n"
     ]
    }
   ],
   "source": [
    "folder_path = \"Datos/CSVs\" \n",
    "contenido = os.listdir(folder_path)\n",
    "csv_files = glob.glob(f'{folder_path}/*.csv')\n",
    "\n",
    "datos = []\n",
    "\n",
    "for file_path in csv_files:\n",
    "    print(f\"Leyendo archivo: {file_path}\")\n",
    "\n",
    "    # Leer el df, borrando las primeras 27 filas de todos los archivos y las últimas 7\n",
    "    df = pd.read_csv(file_path, header = None )[25:-5]\n",
    "\n",
    "    # Cambiar el header para poner los nombres de las columnas\n",
    "    new_header = df.iloc[0]  \n",
    "    df2 = df[1:].copy()     \n",
    "    df2.columns = new_header   \n",
    "\n",
    "    # Borrar la segunda columna y las últimas dos\n",
    "    indices = [1, -1,-2]\n",
    "    df_dropped_multiple = df2.drop(df2.columns[indices], axis=1)\n",
    "\n",
    "    # Resetear los índices\n",
    "    df2 = df2.reset_index(drop = True)\n",
    "\n",
    "    #Meter el dataframe a la lista\n",
    "    datos.append(df2)\n",
    "\n",
    "df_unido = pd.concat(datos, ignore_index=True)\n",
    "\n",
    "print(\"\\nImportación realizada con éxito\")"
   ]
  },
  {
   "cell_type": "markdown",
   "id": "712cf0ba",
   "metadata": {},
   "source": [
    "# 2. Análisis del estado de los datos crudos"
   ]
  },
  {
   "cell_type": "code",
   "execution_count": 28,
   "id": "98058bcf",
   "metadata": {},
   "outputs": [
    {
     "name": "stdout",
     "output_type": "stream",
     "text": [
      "<class 'pandas.core.frame.DataFrame'>\n",
      "RangeIndex: 6600 entries, 0 to 6599\n",
      "Data columns (total 17 columns):\n",
      " #   Column           Non-Null Count  Dtype \n",
      "---  ------           --------------  ----- \n",
      " 0   CODIGO           6600 non-null   object\n",
      " 1   DISTRITO         6600 non-null   object\n",
      " 2   DEPARTAMENTO     6600 non-null   object\n",
      " 3   MUNICIPIO        6600 non-null   object\n",
      " 4   ESTABLECIMIENTO  6600 non-null   object\n",
      " 5   DIRECCION        6598 non-null   object\n",
      " 6   TELEFONO         6554 non-null   object\n",
      " 7   SUPERVISOR       6600 non-null   object\n",
      " 8   DIRECTOR         6574 non-null   object\n",
      " 9   NIVEL            6600 non-null   object\n",
      " 10  SECTOR           6600 non-null   object\n",
      " 11  AREA             6600 non-null   object\n",
      " 12  STATUS           6600 non-null   object\n",
      " 13  MODALIDAD        6600 non-null   object\n",
      " 14  JORNADA          6600 non-null   object\n",
      " 15  PLAN             6600 non-null   object\n",
      " 16  DEPARTAMENTAL    6600 non-null   object\n",
      "dtypes: object(17)\n",
      "memory usage: 876.7+ KB\n",
      "None\n"
     ]
    }
   ],
   "source": [
    "# Muestra la información del dataset unido\n",
    "print(df_unido.info())\n"
   ]
  },
  {
   "cell_type": "code",
   "execution_count": 29,
   "id": "1a3e4046",
   "metadata": {},
   "outputs": [
    {
     "name": "stdout",
     "output_type": "stream",
     "text": [
      "\n",
      "Columna: CODIGO\n",
      "CODIGO\n",
      "19-11-0018-46    1\n",
      "16-01-0138-46    1\n",
      "16-01-0139-46    1\n",
      "16-01-0140-46    1\n",
      "16-01-0141-46    1\n",
      "Name: count, dtype: int64\n",
      "\n",
      "Columna: DISTRITO\n",
      "DISTRITO\n",
      "01-403    160\n",
      "11-017    139\n",
      "01-411    103\n",
      "05-033     94\n",
      "18-039     84\n",
      "Name: count, dtype: int64\n",
      "\n",
      "Columna: DEPARTAMENTO\n",
      "DEPARTAMENTO\n",
      "GUATEMALA         1038\n",
      "CIUDAD CAPITAL     867\n",
      "SAN MARCOS         432\n",
      "ESCUINTLA          393\n",
      "QUETZALTENANGO     365\n",
      "Name: count, dtype: int64\n",
      "\n",
      "Columna: MUNICIPIO\n",
      "MUNICIPIO\n",
      "ZONA 1            303\n",
      "MIXCO             300\n",
      "VILLA NUEVA       223\n",
      "QUETZALTENANGO    175\n",
      "RETALHULEU        156\n",
      "Name: count, dtype: int64\n",
      "\n",
      "Columna: ESTABLECIMIENTO\n",
      "ESTABLECIMIENTO\n",
      "INSTITUTO NACIONAL DE EDUCACION DIVERSIFICADA                        286\n",
      "INSTITUTO NACIONAL DE EDUCACIÓN DIVERSIFICADA                        102\n",
      "CENTRO DE EDUCACIÓN EXTRAESCOLAR -CEEX-                               32\n",
      "INSTITUTO DE EDUCACION DIVERSIFICADA POR COOPERATIVA DE ENSEÑANZA     22\n",
      "INSTITUTO DE EDUCACIÓN DIVERSIFICADA POR COOPERATIVA DE ENSEÑANZA     20\n",
      "Name: count, dtype: int64\n",
      "\n",
      "Columna: DIRECCION\n",
      "DIRECCION\n",
      "CABECERA MUNICIPAL    199\n",
      "BARRIO EL CENTRO       50\n",
      "BARRIO EL CALVARIO     14\n",
      "ALDEA PLAYITAS         12\n",
      "ALDEA CAMOJALLITO      11\n",
      "Name: count, dtype: int64\n",
      "\n",
      "Columna: TELEFONO\n",
      "TELEFONO\n",
      "NaN         46\n",
      "22093200    12\n",
      "77746400    10\n",
      "24637777     9\n",
      "23750057     9\n",
      "Name: count, dtype: int64\n",
      "\n",
      "Columna: SUPERVISOR\n",
      "SUPERVISOR\n",
      "MIGUEL ANGEL ARMAS ROCHA            190\n",
      "CARLOS HUMBERTO GONZÁLEZ DE LEÓN    160\n",
      "JUAN ENRIQUE MARTINEZ SOLANO        103\n",
      "REMY ARTURO SINAY GUDIEL             94\n",
      "ELSA YADIRA MARTINEZ PEREZ           84\n",
      "Name: count, dtype: int64\n",
      "\n",
      "Columna: DIRECTOR\n",
      "DIRECTOR\n",
      "NaN                                 26\n",
      "MARÍA DOLORES PÉREZ TUCHÁN          10\n",
      "HÉCTOR REYNALDO GÓMEZ AGUILAR        9\n",
      "MELVIN RAFAEL REYES LÓPEZ            8\n",
      "SILVIA MARLENI ALVARADO GUARDADO     8\n",
      "Name: count, dtype: int64\n",
      "\n",
      "Columna: NIVEL\n",
      "NIVEL\n",
      "DIVERSIFICADO    6600\n",
      "Name: count, dtype: int64\n",
      "\n",
      "Columna: SECTOR\n",
      "SECTOR\n",
      "PRIVADO        5418\n",
      "OFICIAL         874\n",
      "COOPERATIVA     213\n",
      "MUNICIPAL        95\n",
      "Name: count, dtype: int64\n",
      "\n",
      "Columna: AREA\n",
      "AREA\n",
      "URBANA             5250\n",
      "RURAL              1349\n",
      "SIN ESPECIFICAR       1\n",
      "Name: count, dtype: int64\n",
      "\n",
      "Columna: STATUS\n",
      "STATUS\n",
      "ABIERTA    6600\n",
      "Name: count, dtype: int64\n",
      "\n",
      "Columna: MODALIDAD\n",
      "MODALIDAD\n",
      "MONOLINGUE    6391\n",
      "BILINGUE       209\n",
      "Name: count, dtype: int64\n",
      "\n",
      "Columna: JORNADA\n",
      "JORNADA\n",
      "DOBLE          1957\n",
      "VESPERTINA     1836\n",
      "MATUTINA       1687\n",
      "SIN JORNADA    1001\n",
      "NOCTURNA        106\n",
      "Name: count, dtype: int64\n",
      "\n",
      "Columna: PLAN\n",
      "PLAN\n",
      "DIARIO(REGULAR)                        4052\n",
      "FIN DE SEMANA                          1310\n",
      "SEMIPRESENCIAL (FIN DE SEMANA)          490\n",
      "SEMIPRESENCIAL (UN DÍA A LA SEMANA)     409\n",
      "A DISTANCIA                             116\n",
      "Name: count, dtype: int64\n",
      "\n",
      "Columna: DEPARTAMENTAL\n",
      "DEPARTAMENTAL\n",
      "GUATEMALA OCCIDENTE    551\n",
      "GUATEMALA NORTE        545\n",
      "GUATEMALA SUR          528\n",
      "SAN MARCOS             432\n",
      "ESCUINTLA              393\n",
      "Name: count, dtype: int64\n",
      "\n",
      "25\n",
      "CODIGO              0\n",
      "DISTRITO            0\n",
      "DEPARTAMENTO        0\n",
      "MUNICIPIO           0\n",
      "ESTABLECIMIENTO     0\n",
      "DIRECCION           2\n",
      "TELEFONO           46\n",
      "SUPERVISOR          0\n",
      "DIRECTOR           26\n",
      "NIVEL               0\n",
      "SECTOR              0\n",
      "AREA                0\n",
      "STATUS              0\n",
      "MODALIDAD           0\n",
      "JORNADA             0\n",
      "PLAN                0\n",
      "DEPARTAMENTAL       0\n",
      "dtype: int64\n"
     ]
    }
   ],
   "source": [
    "# Revisa valores únicos por columna\n",
    "for col in df_unido.columns:\n",
    "    print(f\"\\nColumna: {col}\")\n",
    "    print(df_unido[col].value_counts(dropna=False).head())\n",
    "\n",
    "# Revisa valores nulos\n",
    "print()\n",
    "print(df_unido.isnull().sum())"
   ]
  },
  {
   "cell_type": "code",
   "execution_count": 30,
   "id": "d306d593",
   "metadata": {},
   "outputs": [
    {
     "name": "stdout",
     "output_type": "stream",
     "text": [
      "25           CODIGO DISTRITO    DEPARTAMENTO               MUNICIPIO  \\\n",
      "3990  22-01-0627-46   22-001         JUTIAPA                 JUTIAPA   \n",
      "5556  12-02-0138-46   12-055      SAN MARCOS  SAN PEDRO SACATEPEQUEZ   \n",
      "5131  11-01-0478-46   11-017      RETALHULEU              RETALHULEU   \n",
      "3744  18-04-0496-46   18-039          IZABAL                 MORALES   \n",
      "5360  03-01-1341-46   03-002    SACATEPEQUEZ       ANTIGUA GUATEMALA   \n",
      "4723  09-17-0056-46   09-039  QUETZALTENANGO      COLOMBA COSTA CUCA   \n",
      "4143  22-13-0028-46   22-036         JUTIAPA                CONGUACO   \n",
      "2331  01-07-0061-46   01-114       GUATEMALA       SAN PEDRO AYAMPUC   \n",
      "4835  09-23-0047-46   09-020  QUETZALTENANGO            LA ESPERANZA   \n",
      "4362  17-09-0004-46   17-015           PETEN                SAN LUIS   \n",
      "\n",
      "25                                     ESTABLECIMIENTO  \\\n",
      "3990               COLEGIO PARTICULAR MIXTO SAN MIGUEL   \n",
      "5556              COLEGIO PARTICULAR MIXTO \"SANTA ANA\"   \n",
      "5131                          COLEGIO MIXTO RETALHULEU   \n",
      "3744          INSTITUTO PRIVADO MIXTO EL MAESTRO AMIGO   \n",
      "5360     COLEGIO SISTEMA EDUCATIVO LATINOAMERICANO SEL   \n",
      "4723       LICEO DE ESTUDIOS EN COMPUTACIÓN \"EL VALLE\"   \n",
      "4143     INSTITUTO NACIONAL DE EDUCACION DIVERSIFICADA   \n",
      "2331        LICEO AMERICANO TECNOLÓGICO DE COMPUTACIÓN   \n",
      "4835                                      COLEGIO IDEA   \n",
      "4362  COLEGIO MIXTO PRIVADO SAN PEDRO MARTIR DE VERONA   \n",
      "\n",
      "25                                            DIRECCION  TELEFONO  \\\n",
      "3990                              2A. CALLE 5-98 ZONA 3  77270508   \n",
      "5556      12 AVENIDA 2-82 ZONA 2, CALZADA INDEPENDENCIA  41460186   \n",
      "5131                            6A. AVENIDA 3-40 ZONA 1  77364113   \n",
      "3744                                    ALDEA RIO NEGRO  40268253   \n",
      "5360                 CALLE ANCHA DE LOS HERREROS NO. 99  52660000   \n",
      "4723  CALLE PRINCIPAL DE LA COMUNIDAD AGRARIA PENSAM...  36077580   \n",
      "4143                                   BARRIO EL CENTRO  55171050   \n",
      "2331          LOTE 3 Y 4 MANZANA N LOMAS DE SAN JOSE II  55030357   \n",
      "4835                            3A. AVENIDA 1-30 ZONA 3  77720005   \n",
      "4362                  BARRIO LA GASOLINERA ALDEA CHACTE  32589750   \n",
      "\n",
      "25                                   SUPERVISOR  \\\n",
      "3990  CECILIA ISABEL ALDECOA CASASOLA DE CASTRO   \n",
      "5556   LUCRECIA MARISOL OROZCO ROBLES DE CHILEL   \n",
      "5131                   MIGUEL ANGEL ARMAS ROCHA   \n",
      "3744                 ELSA YADIRA MARTINEZ PEREZ   \n",
      "5360                 ZOILA ESTHELA JONFE OROZCO   \n",
      "4723                 JUAN JOSE VASQUEZ CALDERON   \n",
      "4143                          JORGE GOMEZ PEREZ   \n",
      "2331                ROSA MONROY PIXTUN DE SURET   \n",
      "4835                JORGE MARIO ROJAS FERNANDEZ   \n",
      "4362                           DAMIAN AC CAHUEC   \n",
      "\n",
      "25                           DIRECTOR          NIVEL   SECTOR    AREA  \\\n",
      "3990       TANIA BEATRIZ LÓPEZ RIVERA  DIVERSIFICADO  PRIVADO  URBANA   \n",
      "5556      JUAN DANIEL DE LEÓN GODÍNEZ  DIVERSIFICADO  PRIVADO  URBANA   \n",
      "5131             SALVADOR LIMA GARCÍA  DIVERSIFICADO  PRIVADO  URBANA   \n",
      "3744     DARWIN ENRIQUE ALVAREZ MORAN  DIVERSIFICADO  PRIVADO   RURAL   \n",
      "5360  SAMUEL EDUARDO SANTOS BARREONDO  DIVERSIFICADO  PRIVADO  URBANA   \n",
      "4723        ERICK GEOVANY LÓPEZ LÓPEZ  DIVERSIFICADO  PRIVADO   RURAL   \n",
      "4143       MARÍA ELIZABETH ZÉA ALONZO  DIVERSIFICADO  OFICIAL  URBANA   \n",
      "2331         GERSON NOÉ GUZMÁN GARCÍA  DIVERSIFICADO  PRIVADO   RURAL   \n",
      "4835   JORGE LUIS FERNÁNDEZ SOTOVANDO  DIVERSIFICADO  PRIVADO  URBANA   \n",
      "4362          BERNARDINO MÉNDEZ YAQUE  DIVERSIFICADO  PRIVADO   RURAL   \n",
      "\n",
      "25     STATUS   MODALIDAD      JORNADA                                 PLAN  \\\n",
      "3990  ABIERTA  MONOLINGUE   VESPERTINA                      DIARIO(REGULAR)   \n",
      "5556  ABIERTA  MONOLINGUE     MATUTINA                      DIARIO(REGULAR)   \n",
      "5131  ABIERTA  MONOLINGUE  SIN JORNADA       SEMIPRESENCIAL (FIN DE SEMANA)   \n",
      "3744  ABIERTA  MONOLINGUE  SIN JORNADA  SEMIPRESENCIAL (UN DÍA A LA SEMANA)   \n",
      "5360  ABIERTA  MONOLINGUE   VESPERTINA                      DIARIO(REGULAR)   \n",
      "4723  ABIERTA  MONOLINGUE        DOBLE                        FIN DE SEMANA   \n",
      "4143  ABIERTA  MONOLINGUE   VESPERTINA                      DIARIO(REGULAR)   \n",
      "2331  ABIERTA  MONOLINGUE  SIN JORNADA       SEMIPRESENCIAL (FIN DE SEMANA)   \n",
      "4835  ABIERTA  MONOLINGUE  SIN JORNADA       SEMIPRESENCIAL (FIN DE SEMANA)   \n",
      "4362  ABIERTA  MONOLINGUE   VESPERTINA                      DIARIO(REGULAR)   \n",
      "\n",
      "25      DEPARTAMENTAL  \n",
      "3990          JUTIAPA  \n",
      "5556       SAN MARCOS  \n",
      "5131       RETALHULEU  \n",
      "3744           IZABAL  \n",
      "5360     SACATEPÉQUEZ  \n",
      "4723   QUETZALTENANGO  \n",
      "4143          JUTIAPA  \n",
      "2331  GUATEMALA NORTE  \n",
      "4835   QUETZALTENANGO  \n",
      "4362            PETÉN  \n"
     ]
    }
   ],
   "source": [
    "# Vista previa de los datos\n",
    "print(df_unido.sample(10))"
   ]
  },
  {
   "cell_type": "markdown",
   "id": "6a79ed8c",
   "metadata": {},
   "source": [
    "# 3. Operaciones de limpieza"
   ]
  },
  {
   "cell_type": "markdown",
   "id": "04b64ff6",
   "metadata": {},
   "source": [
    "### A. Unir los datos horizontalmente\n",
    "\n",
    "Se unen los 23 dataframes para obtener un solo archivo y limpiarlo más efectivamente. "
   ]
  },
  {
   "cell_type": "code",
   "execution_count": 31,
   "id": "8fc5f9cd",
   "metadata": {},
   "outputs": [
    {
     "name": "stdout",
     "output_type": "stream",
     "text": [
      "La cantidad de filas coincide: True\n",
      "Hay 6600 establecimientos educativos en Guatemala.\n"
     ]
    }
   ],
   "source": [
    "todos = pd.concat(datos, ignore_index=True)\n",
    "todos\n",
    "\n",
    "# Verificación de que las filas son la cantidad correcta\n",
    "contador = 0\n",
    "for archivo in datos:\n",
    "    contador = contador + len(archivo)\n",
    "\n",
    "print(f'La cantidad de filas coincide: {len(todos) == contador}')\n",
    "print(f'Hay {len(todos)} establecimientos educativos en Guatemala.')\n",
    "\n",
    "# Cambiar encabezado a minúsculas\n"
   ]
  },
  {
   "cell_type": "markdown",
   "id": "0b947624",
   "metadata": {},
   "source": [
    "#### Renombramiento de columnas (mayúsculas a minúsculas)"
   ]
  },
  {
   "cell_type": "code",
   "execution_count": 33,
   "id": "5b205c00",
   "metadata": {},
   "outputs": [],
   "source": [
    "df_unido.columns = df_unido.columns.str.strip().str.lower().str.replace(' ', '_')"
   ]
  },
  {
   "cell_type": "markdown",
   "id": "1241e513",
   "metadata": {},
   "source": [
    "### B. Limpiar variable Teléfono\n",
    "\n",
    "1. Se eliminan todos los espacios vacíos de la columna (\" \")\n",
    "2. Se mantienen solo los primeros 8 caracteres. \n",
    "3. No se eliminan los registros nulos, sino solo se pone el valor NA. "
   ]
  },
  {
   "cell_type": "code",
   "execution_count": 39,
   "id": "d036eb2f",
   "metadata": {},
   "outputs": [
    {
     "data": {
      "text/plain": [
       "0     7794-5104\n",
       "1     7736-7402\n",
       "2     7823-2301\n",
       "3     7951-4215\n",
       "4     7952-1468\n",
       "5     5710-1061\n",
       "6     7952-2555\n",
       "7     7793-0045\n",
       "8     7954-5566\n",
       "9     7951-4754\n",
       "Name: telefono, dtype: object"
      ]
     },
     "execution_count": 39,
     "metadata": {},
     "output_type": "execute_result"
    }
   ],
   "source": [
    "def clean_phone(phone):\n",
    "    phone = str(phone)\n",
    "    phone = re.sub(r'\\D', '', phone)  # elimina cualquier carácter no numérico\n",
    "    if len(phone) == 8:\n",
    "        return f' {phone[:4]}-{phone[4:]}'\n",
    "    elif len(phone) == 0:\n",
    "        return None\n",
    "    else:\n",
    "        return phone  # conservar si no es estándar\n",
    "\n",
    "df_unido['telefono'] = df_unido['telefono'].apply(clean_phone)\n",
    "\n",
    "df_unido['telefono'].head(10)\n"
   ]
  },
  {
   "cell_type": "markdown",
   "id": "25fb8249",
   "metadata": {},
   "source": [
    "### C. Limpiar variables con nombres (director, supervisor) y dirección "
   ]
  },
  {
   "cell_type": "markdown",
   "id": "d9eff7b1",
   "metadata": {},
   "source": [
    "#### Eliminación de espacios duplicados y caracteres invisibles"
   ]
  },
  {
   "cell_type": "code",
   "execution_count": null,
   "id": "68970c15",
   "metadata": {},
   "outputs": [],
   "source": [
    "text_cols = ['departamento', 'municipio', 'establecimiento', 'direccion', 'supervisor', 'director', 'nivel', 'sector', 'area', 'status', 'modalidad', 'jornada', 'plan', 'departamental']\n",
    "\n",
    "for col in text_cols:\n",
    "    df_unido[col] = df_unido[col].astype(str).str.strip()\n",
    "    df_unido[col] = df_unido[col].str.replace(r'\\s+', ' ', regex=True)\n"
   ]
  },
  {
   "cell_type": "markdown",
   "id": "73849c0c",
   "metadata": {},
   "source": [
    "# 4. Guardar datos limpios"
   ]
  }
 ],
 "metadata": {
  "kernelspec": {
   "display_name": "Python 3",
   "language": "python",
   "name": "python3"
  },
  "language_info": {
   "codemirror_mode": {
    "name": "ipython",
    "version": 3
   },
   "file_extension": ".py",
   "mimetype": "text/x-python",
   "name": "python",
   "nbconvert_exporter": "python",
   "pygments_lexer": "ipython3",
   "version": "3.10.11"
  }
 },
 "nbformat": 4,
 "nbformat_minor": 5
}
